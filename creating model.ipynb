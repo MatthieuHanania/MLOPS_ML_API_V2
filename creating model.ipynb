{
 "cells": [
  {
   "cell_type": "code",
   "execution_count": 1,
   "metadata": {},
   "outputs": [
    {
     "name": "stderr",
     "output_type": "stream",
     "text": [
      "c:\\Users\\Matthieu\\AppData\\Local\\Programs\\Python\\Python38\\lib\\site-packages\\requests\\__init__.py:102: RequestsDependencyWarning: urllib3 (1.26.5) or chardet (5.1.0)/charset_normalizer (2.0.12) doesn't match a supported version!\n",
      "  warnings.warn(\"urllib3 ({}) or chardet ({})/charset_normalizer ({}) doesn't match a supported \"\n"
     ]
    }
   ],
   "source": [
    "import pandas as pd\n",
    "import matplotlib.pyplot as plt\n",
    "import numpy as np\n",
    "from tensorflow import keras"
   ]
  },
  {
   "cell_type": "code",
   "execution_count": 2,
   "metadata": {},
   "outputs": [],
   "source": [
    "df = pd.read_csv(\"fashion-mnist-train-1.csv\")"
   ]
  },
  {
   "cell_type": "code",
   "execution_count": 3,
   "metadata": {},
   "outputs": [],
   "source": [
    "X_train = df.drop(\"label\",axis=1)\n",
    "X_train = X_train.values/255\n",
    "X_train = X_train.reshape(-1,28,28,1)\n",
    "\n",
    "y_train = df.label\n",
    "#y_train = pd.Categorical(y_train)"
   ]
  },
  {
   "cell_type": "code",
   "execution_count": 4,
   "metadata": {},
   "outputs": [],
   "source": [
    "label = categories = {\n",
    "    0: \"T-shirt/top\",\n",
    "    1: \"Trouser\",\n",
    "    2: \"Pullover\",\n",
    "    3: \"Dress\",\n",
    "    4: \"Coat\",\n",
    "    5: \"Sandal\",\n",
    "    6: \"Shirt\",\n",
    "    7: \"Sneaker\",\n",
    "    8: \"Bag\",\n",
    "    9: \"Ankle boot\"\n",
    "}"
   ]
  },
  {
   "cell_type": "code",
   "execution_count": 10,
   "metadata": {},
   "outputs": [
    {
     "data": {
      "text/plain": [
       "(28, 28, 1)"
      ]
     },
     "execution_count": 10,
     "metadata": {},
     "output_type": "execute_result"
    }
   ],
   "source": [
    "image.shape"
   ]
  },
  {
   "cell_type": "code",
   "execution_count": 5,
   "metadata": {},
   "outputs": [
    {
     "name": "stdout",
     "output_type": "stream",
     "text": [
      "4 Coat\n"
     ]
    },
    {
     "data": {
      "text/plain": [
       "<matplotlib.image.AxesImage at 0x199f4817250>"
      ]
     },
     "execution_count": 5,
     "metadata": {},
     "output_type": "execute_result"
    },
    {
     "data": {
      "image/png": "[encoded data removed]",
      "text/plain": [
       "<Figure size 432x288 with 1 Axes>"
      ]
     },
     "metadata": {
      "needs_background": "light"
     },
     "output_type": "display_data"
    }
   ],
   "source": [
    "index = 568\n",
    "print(y_train[index],label[y_train[index]])\n",
    "image = np.array(X_train[index])\n",
    "plt.imshow(image)\n"
   ]
  },
  {
   "cell_type": "code",
   "execution_count": 46,
   "metadata": {},
   "outputs": [
    {
     "name": "stdout",
     "output_type": "stream",
     "text": [
      "Epoch 1/25\n",
      "469/469 [==============================] - 7s 14ms/step - loss: 0.5314 - accuracy: 0.8102\n",
      "Epoch 2/25\n",
      "469/469 [==============================] - 6s 13ms/step - loss: 0.3422 - accuracy: 0.8795\n",
      "Epoch 3/25\n",
      "469/469 [==============================] - 6s 14ms/step - loss: 0.2792 - accuracy: 0.8975\n",
      "Epoch 4/25\n",
      "469/469 [==============================] - 7s 15ms/step - loss: 0.2294 - accuracy: 0.9163\n",
      "Epoch 5/25\n",
      "469/469 [==============================] - 7s 16ms/step - loss: 0.1852 - accuracy: 0.9320\n",
      "Epoch 6/25\n",
      "469/469 [==============================] - 8s 16ms/step - loss: 0.1491 - accuracy: 0.9481\n",
      "Epoch 7/25\n",
      "469/469 [==============================] - 7s 15ms/step - loss: 0.1210 - accuracy: 0.9557\n",
      "Epoch 8/25\n",
      "469/469 [==============================] - 7s 16ms/step - loss: 0.0949 - accuracy: 0.9665\n",
      "Epoch 9/25\n",
      "469/469 [==============================] - 7s 14ms/step - loss: 0.0769 - accuracy: 0.9747\n",
      "Epoch 10/25\n",
      "469/469 [==============================] - 6s 14ms/step - loss: 0.0592 - accuracy: 0.9810 0s - loss: 0.058\n",
      "Epoch 11/25\n",
      "469/469 [==============================] - 7s 14ms/step - loss: 0.0458 - accuracy: 0.9850\n",
      "Epoch 12/25\n",
      "469/469 [==============================] - 7s 16ms/step - loss: 0.0356 - accuracy: 0.9895\n",
      "Epoch 13/25\n",
      "469/469 [==============================] - 7s 16ms/step - loss: 0.0448 - accuracy: 0.9837\n",
      "Epoch 14/25\n",
      "469/469 [==============================] - 7s 15ms/step - loss: 0.0341 - accuracy: 0.9901\n",
      "Epoch 15/25\n",
      "469/469 [==============================] - 6s 13ms/step - loss: 0.0245 - accuracy: 0.9923\n",
      "Epoch 16/25\n",
      "469/469 [==============================] - 5s 11ms/step - loss: 0.0162 - accuracy: 0.9958\n",
      "Epoch 17/25\n",
      "469/469 [==============================] - 5s 11ms/step - loss: 0.0159 - accuracy: 0.9961\n",
      "Epoch 18/25\n",
      "469/469 [==============================] - 5s 11ms/step - loss: 0.0387 - accuracy: 0.9869\n",
      "Epoch 19/25\n",
      "469/469 [==============================] - 5s 11ms/step - loss: 0.0206 - accuracy: 0.9926\n",
      "Epoch 20/25\n",
      "469/469 [==============================] - 5s 11ms/step - loss: 0.0059 - accuracy: 0.9990\n",
      "Epoch 21/25\n",
      "469/469 [==============================] - 5s 11ms/step - loss: 0.0123 - accuracy: 0.9961\n",
      "Epoch 22/25\n",
      "469/469 [==============================] - 5s 11ms/step - loss: 0.0403 - accuracy: 0.9869\n",
      "Epoch 23/25\n",
      "469/469 [==============================] - 5s 11ms/step - loss: 0.0092 - accuracy: 0.9978\n",
      "Epoch 24/25\n",
      "469/469 [==============================] - 5s 11ms/step - loss: 0.0033 - accuracy: 0.9995\n",
      "Epoch 25/25\n",
      "469/469 [==============================] - 5s 11ms/step - loss: 0.0068 - accuracy: 0.9977\n"
     ]
    },
    {
     "data": {
      "text/plain": [
       "<tensorflow.python.keras.callbacks.History at 0x1b709494b80>"
      ]
     },
     "execution_count": 46,
     "metadata": {},
     "output_type": "execute_result"
    }
   ],
   "source": [
    "model = keras.Sequential([\n",
    "    keras.layers.Conv2D(32,kernel_size=(3,3),input_shape=(28, 28, 1)),\n",
    "    keras.layers.MaxPooling2D(pool_size=(2, 2)),\n",
    "    keras.layers.Flatten(),\n",
    "    keras.layers.Dense(128,activation='relu'),\n",
    "    keras.layers.Dense(10,activation='softmax') \n",
    "])\n",
    "\n",
    "model.compile(optimizer='adam',\n",
    "              loss='sparse_categorical_crossentropy',\n",
    "              metrics=['accuracy'])\n",
    "\n",
    "model.fit(X_train,y_train,epochs=25,batch_size=32)"
   ]
  },
  {
   "cell_type": "code",
   "execution_count": 47,
   "metadata": {},
   "outputs": [],
   "source": [
    "model.save('mnistModel.h5')"
   ]
  }
 ],
 "metadata": {
  "kernelspec": {
   "display_name": "venv",
   "language": "python",
   "name": "python3"
  },
  "language_info": {
   "codemirror_mode": {
    "name": "ipython",
    "version": 3
   },
   "file_extension": ".py",
   "mimetype": "text/x-python",
   "name": "python",
   "nbconvert_exporter": "python",
   "pygments_lexer": "ipython3",
   "version": "3.8.10"
  }
 },
 "nbformat": 4,
 "nbformat_minor": 2
}
